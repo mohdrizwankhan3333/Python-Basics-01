{
 "cells": [
  {
   "cell_type": "code",
   "execution_count": 4,
   "id": "a2f58d4d-eb7f-4662-955a-37282998d1c9",
   "metadata": {},
   "outputs": [
    {
     "name": "stdin",
     "output_type": "stream",
     "text": [
      "enter 1 to deposite and 2 to withdraw :  2\n"
     ]
    },
    {
     "name": "stdout",
     "output_type": "stream",
     "text": [
      "Account holder is :  Rizwan Khan\n",
      "Account number is :  xxxxxxx6789\n",
      "Current Account Balance is :  10000\n"
     ]
    },
    {
     "name": "stdin",
     "output_type": "stream",
     "text": [
      "enter ammount that you want to withdraw :  98989\n"
     ]
    },
    {
     "name": "stdout",
     "output_type": "stream",
     "text": [
      "Insafficient balance \n"
     ]
    }
   ],
   "source": [
    "# OOPS _01\n",
    "\n",
    "#Problem 1: Bank Account Create a class representing a bank account with attributes like account number,\n",
    "#account holder name, and balance. Implement methods to deposit and withdraw money from the account.\n",
    "class Bank_Account:\n",
    "    def __init__(self,account_number,account_holder_name,account_balance):\n",
    "        self.account_number=account_number\n",
    "        self.account_holder_name=account_holder_name\n",
    "        self.account_balance=account_balance\n",
    "    def deposit(self,withdraw):\n",
    "        self.withdraw=withdraw\n",
    "        if self.withdraw<=self.account_balance:\n",
    "                   current_balance=self.account_balance-self.withdraw\n",
    "                   print(\"Balance after withdraw amount is : \",current_balance)\n",
    "        else:\n",
    "            print(\"Insafficient balance \")\n",
    "    def withdraw(self,deposite):\n",
    "        self.deposite=deposite\n",
    "        current_amount=self.account_balance+self.deposite\n",
    "        print(\"Balanace agter deposite is : \",current_amount)\n",
    "obj=Bank_Account('xxxxxxx6789','Rizwan Khan',10000)\n",
    "n=int(input(\"enter 1 to deposite and 2 to withdraw : \"))\n",
    "print(\"Account holder is : \",obj.account_holder_name)\n",
    "print(\"Account number is : \",obj.account_number)\n",
    "print(\"Current Account Balance is : \",obj.account_balance)\n",
    "if n==1:\n",
    "    b=int(input(\"enter ammount that you want to deposite : \"))\n",
    "    obj.withdraw(b)\n",
    "elif n==2:\n",
    "    c=int(input(\"enter ammount that you want to withdraw : \"))\n",
    "    obj.deposit(c)\n",
    "        "
   ]
  },
  {
   "cell_type": "code",
   "execution_count": 9,
   "id": "f767e0f2-9553-4e25-a9b7-ac3c5bc6b3c7",
   "metadata": {},
   "outputs": [
    {
     "name": "stdin",
     "output_type": "stream",
     "text": [
      "enter bonus of employee :  19000\n"
     ]
    },
    {
     "name": "stdout",
     "output_type": "stream",
     "text": [
      "Employee Name is : Rizwan Khan\n",
      "Employee ID is : 22DCS042\n",
      "Salary of employee is : 100000\n",
      "Bonus of Employee is : 19000\n",
      "Total salary of Employee with bonus is : 119000\n"
     ]
    }
   ],
   "source": [
    "#Problem 2: Employee Management Create a class representing an employee with attributes like employee ID, \n",
    "#name, and salary. Implement methods to calculate the yearly bonus and display employee details.\n",
    "class employ:\n",
    "    def __init__(self,employee_ID,employ_name,employ_salary):\n",
    "        self.employee_ID=employee_ID\n",
    "        self.employee_name=employ_name\n",
    "        self.employee_salary=employ_salary\n",
    "    def calculate(self,bonus):\n",
    "        self.bonus=bonus\n",
    "        Total_balance=self.employee_salary+self.bonus\n",
    "        print(f\"Employee Name is : {self.employee_name}\")\n",
    "        print(f\"Employee ID is : {self.employee_ID}\")\n",
    "        print(f\"Salary of employee is : {self.employee_salary}\")\n",
    "        print(f\"Bonus of Employee is : {self.bonus}\")\n",
    "        print(f\"Total salary of Employee with bonus is : {Total_balance}\")\n",
    "obj1=employ('22DCS042','Rizwan Khan',100000)\n",
    "n=int(input(\"enter bonus of employee : \"))\n",
    "obj1.calculate(n)"
   ]
  },
  {
   "cell_type": "code",
   "execution_count": 1,
   "id": "812617ee-e7bc-4ccc-b1cf-c4b530aa220b",
   "metadata": {},
   "outputs": [
    {
     "name": "stdin",
     "output_type": "stream",
     "text": [
      "Enter number of vahicle as per requirement :  2\n"
     ]
    },
    {
     "name": "stdout",
     "output_type": "stream",
     "text": [
      "********* E-Rickshaw Rental system  ***********\n",
      "Total cost and currently Available vahicle is : (2000, 48)\n"
     ]
    }
   ],
   "source": [
    "#Problem 3: Vehicle Rental Create a class representing a vehicle rental system. Implement methods to rent\n",
    "#a vehicle, return a vehicle, and display available vehicles.\n",
    "class vehicle_rental_system:\n",
    "    def __init__(self,number):\n",
    "                self.number=number\n",
    "    def rent(self,required):\n",
    "        self.required=required\n",
    "        if self.required<=self.number:\n",
    "            total_cost=1000*self.required\n",
    "            available_vahicle=self.number-self.required\n",
    "        else:\n",
    "            print(\"Insufficient vahicle \")\n",
    "        return total_cost,available_vahicle\n",
    "    \n",
    "obj2=vehicle_rental_system(50)\n",
    "req=int(input(\"Enter number of vahicle as per requirement : \"))\n",
    "print(\"********* E-Rickshaw Rental system  ***********\")\n",
    "print(f\"Total cost and currently Available vahicle is : {obj2.rent(req)}\")"
   ]
  },
  {
   "cell_type": "code",
   "execution_count": 1,
   "id": "37c692df-b8ac-497e-8adb-c806914ddccd",
   "metadata": {},
   "outputs": [
    {
     "name": "stdout",
     "output_type": "stream",
     "text": [
      "Book 'The Catcher in the Rye' by J.D. Salinger added to the library.\n",
      "Book 'To Kill a Mockingbird' by Harper Lee added to the library.\n",
      "Book '1984' by George Orwell added to the library.\n",
      "Available Books:\n",
      "- The Catcher in the Rye\n",
      "- To Kill a Mockingbird\n",
      "- 1984\n",
      "Book 'To Kill a Mockingbird' by Harper Lee has been borrowed.\n",
      "Available Books:\n",
      "- The Catcher in the Rye\n",
      "- 1984\n",
      "Book 'To Kill a Mockingbird' has been returned.\n",
      "Available Books:\n",
      "- The Catcher in the Rye\n",
      "- To Kill a Mockingbird\n",
      "- 1984\n"
     ]
    }
   ],
   "source": [
    "#Problem 4: Library Catalog Create classes representing a library and a book. Implement methods to \n",
    "# add books to the library, borrow books,and display available books.\n",
    "class Book:\n",
    "    def __init__(self, title, author):\n",
    "        self.title = title\n",
    "        self.author = author\n",
    "        self.is_available = True\n",
    "    def borrow(self):\n",
    "        if self.is_available:\n",
    "            self.is_available = False\n",
    "            print(f\"Book '{self.title}' by {self.author} has been borrowed.\")\n",
    "            return True\n",
    "        else:\n",
    "            print(f\"Book '{self.title}' is currently not available.\")\n",
    "            return False\n",
    "    def return_book(self):\n",
    "        self.is_available = True\n",
    "        print(f\"Book '{self.title}' has been returned.\")\n",
    "class Library:\n",
    "    def __init__(self):\n",
    "        self.books = []\n",
    "    def add_book(self, book):\n",
    "        self.books.append(book)\n",
    "        print(f\"Book '{book.title}' by {book.author} added to the library.\")\n",
    "    def borrow_book(self, title):\n",
    "        for book in self.books:\n",
    "            if book.title == title:\n",
    "                book.borrow()\n",
    "                return\n",
    "        print(f\"Book '{title}' not found in the library.\")\n",
    "    def display_available_books(self):\n",
    "        available_books = [book.title for book in self.books if book.is_available]\n",
    "        if available_books:\n",
    "            print(\"Available Books:\")\n",
    "            for title in available_books:\n",
    "                print(f\"- {title}\")\n",
    "        else:\n",
    "            print(\"No books available in the library.\")\n",
    "# Example :-\n",
    "library = Library()\n",
    "book1 = Book(\"The Catcher in the Rye\", \"J.D. Salinger\")\n",
    "book2 = Book(\"To Kill a Mockingbird\", \"Harper Lee\")\n",
    "book3 = Book(\"1984\", \"George Orwell\")\n",
    "library.add_book(book1)\n",
    "library.add_book(book2)\n",
    "library.add_book(book3)\n",
    "library.display_available_books()\n",
    "library.borrow_book(\"To Kill a Mockingbird\")\n",
    "library.display_available_books()\n",
    "book2.return_book()\n",
    "library.display_available_books()"
   ]
  },
  {
   "cell_type": "code",
   "execution_count": 6,
   "id": "d40ad525-dc55-4cd7-adb2-268dc51b989d",
   "metadata": {},
   "outputs": [
    {
     "name": "stdout",
     "output_type": "stream",
     "text": [
      "Laptop - 51 available\n"
     ]
    }
   ],
   "source": [
    "'''Problem 5: Product Inventory Create classes representing a product and an inventory system. Implement methods to add products to the inventory, updateproduct quantity, and display available products.'''\n",
    "class Product:\n",
    "    def __init__(self, name, quantity):\n",
    "        self.name = name\n",
    "        self.quantity = quantity\n",
    "    def __str__(self):\n",
    "        return f\"{self.name} - {self.quantity} available\"\n",
    "class Inventory:\n",
    "    def __init__(self):\n",
    "        self.products = {}\n",
    "    def add_product(self, product):\n",
    "        if product.name in self.products:\n",
    "            self.products[product.name].quantity += product.quantity\n",
    "        else:\n",
    "            self.products[product.name] = product\n",
    "    def update_product_quantity(self, product_name, quantity):\n",
    "        if product_name in self.products:\n",
    "            self.products[product_name].quantity = quantity\n",
    "        else:\n",
    "            print(\"Product not found in inventory.\")\n",
    "    def display_products(self):\n",
    "        for product in self.products.values():\n",
    "            print(product)\n",
    "product1 = Product(\"Laptop\", 51)\n",
    "inventory_system = Inventory()\n",
    "inventory_system.add_product(product1)\n",
    "inventory_system.display_products()"
   ]
  },
  {
   "cell_type": "code",
   "execution_count": null,
   "id": "43a90aa7-a632-4087-8026-7285fad36c60",
   "metadata": {},
   "outputs": [],
   "source": [
    "'''\n",
    "Problem 6: Shape Calculation Create a class representing a shape with attributes like length, width, and height. Implement methods to calculate the area and perimeter of the shape.'''\n"
   ]
  }
 ],
 "metadata": {
  "kernelspec": {
   "display_name": "Python 3 (ipykernel)",
   "language": "python",
   "name": "python3"
  },
  "language_info": {
   "codemirror_mode": {
    "name": "ipython",
    "version": 3
   },
   "file_extension": ".py",
   "mimetype": "text/x-python",
   "name": "python",
   "nbconvert_exporter": "python",
   "pygments_lexer": "ipython3",
   "version": "3.10.8"
  }
 },
 "nbformat": 4,
 "nbformat_minor": 5
}
