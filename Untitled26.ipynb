{
 "cells": [
  {
   "cell_type": "code",
   "execution_count": 34,
   "id": "5e30b950-08ab-4dd6-942c-5cee78768184",
   "metadata": {},
   "outputs": [
    {
     "name": "stdout",
     "output_type": "stream",
     "text": [
      "133\n",
      "1,32,133,\n",
      "Peek: 133\n"
     ]
    }
   ],
   "source": [
    "class Stack:\n",
    "    def __init__(self, capacity):\n",
    "        self.capacity = capacity\n",
    "        self.top = -1\n",
    "        self.arr = [None] * capacity\n",
    "    def is_empty(self):\n",
    "        return self.top == -1\n",
    "    def is_full(self):\n",
    "        return self.top == self.capacity - 1\n",
    "    def push(self, data):\n",
    "        if self.is_full():\n",
    "            return 'Stack is overflow'\n",
    "        self.top += 1\n",
    "        self.arr[self.top] = data\n",
    "    def pop(self):\n",
    "        if self.is_empty():\n",
    "            return 'Stack is underflow'\n",
    "        data = self.arr[self.top]\n",
    "        self.top -= 1\n",
    "        return data\n",
    "    def traverse(self):\n",
    "        for i in range(self.top + 1):\n",
    "            print(self.arr[i], end=\",\")\n",
    "        print()\n",
    "    def peek(self):\n",
    "        if self.is_empty():\n",
    "            print(\"Stack underflow\")\n",
    "            return None\n",
    "        data = self.arr[self.top]\n",
    "        return data\n",
    "s = Stack(5)\n",
    "s.push(1)\n",
    "s.push(32)\n",
    "s.push(133)\n",
    "s.push(133)\n",
    "print(s.pop())\n",
    "s.traverse()\n",
    "print(\"Peek:\", s.peek())"
   ]
  },
  {
   "cell_type": "code",
   "execution_count": 35,
   "id": "afe25600-96b2-423f-bb0c-81e982c19f61",
   "metadata": {},
   "outputs": [
    {
     "name": "stdout",
     "output_type": "stream",
     "text": [
      "133\n",
      "1,32,133,Peek: 133\n"
     ]
    }
   ],
   "source": [
    "class Stack :\n",
    "  def __init__(self,capacity):  #Size of the array\n",
    "    self.top = -1 #in the begining the stack will be empty\n",
    "    self.arr = [None]*capacity\n",
    "    self.capacity = capacity\n",
    "\n",
    "  def isEmpty(self):\n",
    "    return self.top == -1\n",
    "\n",
    "  def isFull(self):\n",
    "    return self.top == self.capacity-1\n",
    "\n",
    "  def push(self, data):\n",
    "    # Check if it's full\n",
    "    if self.isFull():\n",
    "      print(\"Stack overflow\")\n",
    "      return\n",
    "    self.top += 1\n",
    "    self.arr[self.top]=data\n",
    "\n",
    "  def pop(self):\n",
    "    #Check if it's empty\n",
    "    if self.isEmpty():\n",
    "      print(\"Stack underflow\")\n",
    "      return\n",
    "    data = self.arr[self.top]\n",
    "    self.arr[self.top] = None\n",
    "    self.top -= 1\n",
    "    return data\n",
    "\n",
    "  def traverse(self):\n",
    "    for i in range(self.top+1):\n",
    "      print(self.arr[i] , end=\",\")\n",
    "\n",
    "  def peek(self):\n",
    "    #Check if it's empty\n",
    "    if self.isEmpty():\n",
    "      print(\"Stack underflow\")\n",
    "      return\n",
    "    data = self.arr[self.top]\n",
    "    return data #not decrementing the top value\n",
    "s = Stack(5)\n",
    "s.push(1)\n",
    "s.push(32)\n",
    "s.push(133)\n",
    "s.push(133)\n",
    "print(s.pop())\n",
    "s.traverse()\n",
    "print(\"Peek:\", s.peek())"
   ]
  },
  {
   "cell_type": "code",
   "execution_count": 64,
   "id": "7c19673c-966d-4d88-a228-47f909651d70",
   "metadata": {},
   "outputs": [
    {
     "ename": "IndentationError",
     "evalue": "unindent does not match any outer indentation level (<tokenize>, line 22)",
     "output_type": "error",
     "traceback": [
      "\u001b[0;36m  File \u001b[0;32m<tokenize>:22\u001b[0;36m\u001b[0m\n\u001b[0;31m    data = self.arr[self.top]\u001b[0m\n\u001b[0m    ^\u001b[0m\n\u001b[0;31mIndentationError\u001b[0m\u001b[0;31m:\u001b[0m unindent does not match any outer indentation level\n"
     ]
    }
   ],
   "source": [
    "class stack:\n",
    "    def __init__(self,capacity):\n",
    "        self.capacity=capacity\n",
    "        self.top=-1\n",
    "        self.arr=[None]*capacity\n",
    "    def isempty(self):\n",
    "        return self.top==-1\n",
    "    def isfull(self):\n",
    "        return self.top==self.capacity-1\n",
    "    def push(self,data):\n",
    "        if self.isfull():\n",
    "            print( 'stack is overflow')\n",
    "            return\n",
    "        self.data=data\n",
    "        self.arr[self.top]=self.data\n",
    "        self.top+=1\n",
    "          def pop(self):\n",
    "    #Check if it's empty\n",
    "            if self.isEmpty():\n",
    "      print(\"Stack underflow\")\n",
    "      return\n",
    "    data = self.arr[self.top]\n",
    "    self.arr[self.top] = None\n",
    "    self.top -= 1\n",
    "    return data\n",
    "    def travers(self):\n",
    "        for i in range(self.top+1):\n",
    "            print(self.arr[i],end=',')\n",
    "    def peek(self):\n",
    "        if self.isempty():\n",
    "            return 'stack unmderflow'\n",
    "        self.data=self.arr[self.top]\n",
    "        return self.data\n",
    "s=stack(5)\n",
    "s.push(1)\n",
    "s.push(11)\n",
    "s.push(111)\n",
    "s.push(1111)\n",
    "print(s.pop())\n",
    "print(s.travers(),end=',')\n",
    "print()\n",
    "print(s.peek())"
   ]
  },
  {
   "cell_type": "code",
   "execution_count": null,
   "id": "2a1954b5-8a09-461d-98fe-c7fb8db8dd6b",
   "metadata": {},
   "outputs": [],
   "source": []
  }
 ],
 "metadata": {
  "kernelspec": {
   "display_name": "Python 3 (ipykernel)",
   "language": "python",
   "name": "python3"
  },
  "language_info": {
   "codemirror_mode": {
    "name": "ipython",
    "version": 3
   },
   "file_extension": ".py",
   "mimetype": "text/x-python",
   "name": "python",
   "nbconvert_exporter": "python",
   "pygments_lexer": "ipython3",
   "version": "3.10.8"
  }
 },
 "nbformat": 4,
 "nbformat_minor": 5
}
