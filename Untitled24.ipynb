{
 "cells": [
  {
   "cell_type": "code",
   "execution_count": 1,
   "id": "37bef848-5c44-4552-b291-6437ce4e6565",
   "metadata": {},
   "outputs": [
    {
     "name": "stdout",
     "output_type": "stream",
     "text": [
      "15\n"
     ]
    }
   ],
   "source": [
    "def rec(n):\n",
    "    if n<10:\n",
    "        return n\n",
    "    return n%10+rec(n//10)\n",
    "print(rec(12345))\n"
   ]
  },
  {
   "cell_type": "code",
   "execution_count": 15,
   "id": "7cfea5e0-23d1-47a0-8688-35be6d35912b",
   "metadata": {},
   "outputs": [
    {
     "name": "stdout",
     "output_type": "stream",
     "text": [
      "524288\n"
     ]
    }
   ],
   "source": [
    "def rec(a,n):\n",
    "    if n==1:\n",
    "        return a\n",
    "    else:\n",
    "        mid=n//2\n",
    "        result=rec(a,mid)\n",
    "        fresult=result*result\n",
    "        if n%2==0:\n",
    "            return fresult\n",
    "        else:\n",
    "            return a*fresult\n",
    "print(rec(2,19))"
   ]
  },
  {
   "cell_type": "code",
   "execution_count": null,
   "id": "bc372b2d-3e33-4808-9d9f-f9b04fedee42",
   "metadata": {},
   "outputs": [],
   "source": []
  }
 ],
 "metadata": {
  "kernelspec": {
   "display_name": "Python 3 (ipykernel)",
   "language": "python",
   "name": "python3"
  },
  "language_info": {
   "codemirror_mode": {
    "name": "ipython",
    "version": 3
   },
   "file_extension": ".py",
   "mimetype": "text/x-python",
   "name": "python",
   "nbconvert_exporter": "python",
   "pygments_lexer": "ipython3",
   "version": "3.10.8"
  }
 },
 "nbformat": 4,
 "nbformat_minor": 5
}
